{
 "cells": [
  {
   "cell_type": "code",
   "execution_count": null,
   "id": "619591b3-cc2a-40eb-a295-e958cae27ee9",
   "metadata": {},
   "outputs": [],
   "source": [
    "!pip install -U ray[default]==2.34.0"
   ]
  },
  {
   "cell_type": "code",
   "execution_count": null,
   "id": "5c1eaa71-fe06-4dd9-b1bf-ccfb0d6a3ec2",
   "metadata": {},
   "outputs": [],
   "source": [
    "import ray"
   ]
  },
  {
   "cell_type": "code",
   "execution_count": null,
   "id": "5e5847db-acb4-44d5-8d18-098470632132",
   "metadata": {},
   "outputs": [],
   "source": [
    "# replace the address\n",
    "ray.init(address=\"ray://172.20.59.163:10001\")"
   ]
  },
  {
   "cell_type": "code",
   "execution_count": 5,
   "id": "6b333cb1-748a-4e1c-9c58-c46417f55fa6",
   "metadata": {},
   "outputs": [
    {
     "data": {
      "text/plain": [
       "{'node:10.0.6.166': 1.0,\n",
       " 'object_store_memory': 19108050123.0,\n",
       " 'node:10.0.3.7': 1.0,\n",
       " 'memory': 51307097294.0,\n",
       " 'node:__internal_head__': 1.0,\n",
       " 'node:10.0.0.233': 1.0,\n",
       " 'node:10.0.7.236': 1.0,\n",
       " 'CPU': 17.0,\n",
       " 'node:10.0.2.135': 1.0}"
      ]
     },
     "execution_count": 5,
     "metadata": {},
     "output_type": "execute_result"
    }
   ],
   "source": [
    "ray.cluster_resources()"
   ]
  },
  {
   "cell_type": "code",
   "execution_count": 5,
   "id": "a8ea0a3e-ca5b-4631-b6dc-1229936f5b44",
   "metadata": {},
   "outputs": [],
   "source": [
    "from ray.runtime_env import RuntimeEnv\n",
    "runtime_env = RuntimeEnv(\n",
    "    pip=[\"torch, torchvision\"],\n",
    "    env_vars={\"TF_WARNINGS\": \"none\"}\n",
    ")"
   ]
  },
  {
   "cell_type": "code",
   "execution_count": 15,
   "id": "65943ec5-5aae-4fd2-a298-05f691d1a54f",
   "metadata": {},
   "outputs": [],
   "source": [
    "import time\n",
    "\n",
    "database = [\n",
    "    \"Learning\", \"Ray\",\n",
    "    \"Flexible\", \"Distributed\", \"Python\", \"for\", \"Machine\", \"Learning\"\n",
    "]\n",
    "\n",
    "\n",
    "def retrieve(item):\n",
    "    time.sleep(item / 10.)\n",
    "    return item, database[item]"
   ]
  },
  {
   "cell_type": "code",
   "execution_count": 16,
   "id": "59061729-d12a-42d1-bf9c-c6a24acb3435",
   "metadata": {},
   "outputs": [
    {
     "name": "stdout",
     "output_type": "stream",
     "text": [
      "Runtime: 2.80 seconds, data:\n",
      "(0, 'Learning')\n",
      "(1, 'Ray')\n",
      "(2, 'Flexible')\n",
      "(3, 'Distributed')\n",
      "(4, 'Python')\n",
      "(5, 'for')\n",
      "(6, 'Machine')\n",
      "(7, 'Learning')\n"
     ]
    }
   ],
   "source": [
    "def print_runtime(input_data, start_time):\n",
    "    print(f'Runtime: {time.time() - start_time:.2f} seconds, data:')\n",
    "    print(*input_data, sep=\"\\n\")\n",
    "\n",
    "\n",
    "start = time.time()\n",
    "data = [retrieve(item) for item in range(8)]\n",
    "print_runtime(data, start)"
   ]
  },
  {
   "cell_type": "code",
   "execution_count": 17,
   "id": "71ff373a-0484-49c4-8dc0-5cf2c71bd13a",
   "metadata": {},
   "outputs": [],
   "source": [
    "import ray \n",
    "\n",
    "\n",
    "@ray.remote\n",
    "def retrieve_task(item):\n",
    "    return retrieve(item)"
   ]
  },
  {
   "cell_type": "code",
   "execution_count": 18,
   "id": "f4ff6a09-dd25-4919-b144-3a273e804d2f",
   "metadata": {},
   "outputs": [
    {
     "name": "stdout",
     "output_type": "stream",
     "text": [
      "Runtime: 1.92 seconds, data:\n",
      "(0, 'Learning')\n",
      "(1, 'Ray')\n",
      "(2, 'Flexible')\n",
      "(3, 'Distributed')\n",
      "(4, 'Python')\n",
      "(5, 'for')\n",
      "(6, 'Machine')\n",
      "(7, 'Learning')\n"
     ]
    }
   ],
   "source": [
    "start = time.time()\n",
    "object_references = [\n",
    "    retrieve_task.remote(item) for item in range(8)\n",
    "]\n",
    "data = ray.get(object_references)\n",
    "print_runtime(data, start)"
   ]
  }
 ],
 "metadata": {
  "kernelspec": {
   "display_name": "Python 3 (ipykernel)",
   "language": "python",
   "name": "python3"
  },
  "language_info": {
   "codemirror_mode": {
    "name": "ipython",
    "version": 3
   },
   "file_extension": ".py",
   "mimetype": "text/x-python",
   "name": "python",
   "nbconvert_exporter": "python",
   "pygments_lexer": "ipython3",
   "version": "3.11.9"
  }
 },
 "nbformat": 4,
 "nbformat_minor": 5
}
